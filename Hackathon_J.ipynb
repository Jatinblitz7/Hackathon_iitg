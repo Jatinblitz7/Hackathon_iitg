{
  "nbformat": 4,
  "nbformat_minor": 0,
  "metadata": {
    "colab": {
      "provenance": [],
      "authorship_tag": "ABX9TyMx2ROLHNztFO9uzlwXYvyV",
      "include_colab_link": true
    },
    "kernelspec": {
      "name": "python3",
      "display_name": "Python 3"
    },
    "language_info": {
      "name": "python"
    }
  },
  "cells": [
    {
      "cell_type": "markdown",
      "metadata": {
        "id": "view-in-github",
        "colab_type": "text"
      },
      "source": [
        "<a href=\"https://colab.research.google.com/github/Jatinblitz7/Hackathon_iitg/blob/Master/Hackathon_J.ipynb\" target=\"_parent\"><img src=\"https://colab.research.google.com/assets/colab-badge.svg\" alt=\"Open In Colab\"/></a>"
      ]
    },
    {
      "cell_type": "code",
      "source": [
        "import numpy as np\n",
        "import pandas as pd\n",
        "import matplotlib.pyplot as plt\n",
        "from sklearn.svm import SVC\n",
        "from sklearn.impute import SimpleImputer\n",
        "from sklearn.metrics import accuracy_score\n",
        "from sklearn.linear_model import LogisticRegression\n",
        "from sklearn.model_selection import train_test_split\n",
        "from sklearn.ensemble import GradientBoostingClassifier\n",
        "from sklearn.metrics import roc_curve, roc_auc_score, auc"
      ],
      "metadata": {
        "id": "I1ciTQyVTxVt"
      },
      "execution_count": 1,
      "outputs": []
    },
    {
      "cell_type": "code",
      "execution_count": 2,
      "metadata": {
        "collapsed": true,
        "id": "d_-cCsDATcRl"
      },
      "outputs": [],
      "source": [
        "# Data given\n",
        "\n",
        "X = pd.read_csv('/content/training_set_features.csv')\n",
        "Y = pd.read_csv('/content/training_set_labels.csv')\n",
        "X.set_index('respondent_id', inplace = True)\n",
        "Y.set_index('respondent_id', inplace = True)"
      ]
    },
    {
      "cell_type": "code",
      "source": [
        "# Labelling certain columns\n",
        "\n",
        "labels = { \"age_group\": {\"18 - 34 Years\": 0,\"35 - 44 Years\": 1, \"45 - 54 Years\": 2, \"55 - 64 Years\": 3, \"65+ Years\": 4},\n",
        "           \"income_poverty\": {\"<= $75,000, Above Poverty\": 1, \"> $75,000\": 2, \"Below Poverty\": 0},\n",
        "           \"census_msa\": {\"MSA, Principle City\": 2, \"MSA, Not Principle  City\": 1, \"Non-MSA\": 0},\n",
        "           \"employment_status\": {\"Employed\":2, \"Not in Labor Force\": 1, \"Unemployed\": 0},\n",
        "           \"race\": {\"White\": 3, \"Black\":2, \"Hispanic\": 1, \"Other or Multiple\": 0},\n",
        "           \"sex\": {\"Female\": 0, \"Male\": 1},}\n",
        "\n",
        "X = X.replace(labels)"
      ],
      "metadata": {
        "id": "yX-EH72QTwhB"
      },
      "execution_count": 3,
      "outputs": []
    },
    {
      "cell_type": "code",
      "source": [
        "# Getting rid of useless data\n",
        "X.drop(columns = [\"employment_industry\", \"employment_occupation\", \"marital_status\",\t'behavioral_outside_home', \"education\",\t'behavioral_avoidance', 'behavioral_large_gatherings',\t'behavioral_touch_face', \"rent_or_own\", \"hhs_geo_region\"], inplace = True)"
      ],
      "metadata": {
        "id": "wfuvFUIsp8_X"
      },
      "execution_count": 4,
      "outputs": []
    },
    {
      "cell_type": "code",
      "source": [
        "# Sorting out the columns\n",
        "Ordinal = ['xyz_concern', 'xyz_knowledge', 'opinion_xyz_vacc_effective', 'opinion_xyz_risk', 'opinion_xyz_sick_from_vacc', 'opinion_seas_vacc_effective', 'opinion_seas_risk', 'opinion_seas_sick_from_vacc']\n",
        "\n",
        "Binary = ['behavioral_antiviral_meds',\t'behavioral_face_mask',\t'behavioral_wash_hands', \"health_insurance\", 'doctor_recc_xyz', 'doctor_recc_seasonal', 'chronic_med_condition', 'child_under_6_months', 'health_worker', 'sex']\n",
        "\n",
        "Categorical = ['age_group', 'income_poverty', 'census_msa', 'employment_status', 'race', 'household_adults', 'household_children']"
      ],
      "metadata": {
        "id": "Bc89kEvHduFD"
      },
      "execution_count": 5,
      "outputs": []
    },
    {
      "cell_type": "code",
      "source": [
        "#Filling the NaN values\n",
        "imputer = SimpleImputer(strategy='most_frequent')\n",
        "\n",
        "X[Categorical] = imputer.fit_transform(X[Categorical])\n",
        "X[Binary] = imputer.fit_transform(X[Binary])\n",
        "X[Ordinal] = imputer.fit_transform(X[Ordinal])"
      ],
      "metadata": {
        "id": "oRpb_7QRkh94"
      },
      "execution_count": 6,
      "outputs": []
    },
    {
      "cell_type": "code",
      "source": [
        "X.head()"
      ],
      "metadata": {
        "colab": {
          "base_uri": "https://localhost:8080/",
          "height": 287
        },
        "collapsed": true,
        "id": "mbOipyTtlrWo",
        "outputId": "6cbc4442-faa7-4e28-fe56-af5b97568bb9"
      },
      "execution_count": 9,
      "outputs": [
        {
          "output_type": "execute_result",
          "data": {
            "text/plain": [
              "               xyz_concern  xyz_knowledge  behavioral_antiviral_meds  \\\n",
              "respondent_id                                                          \n",
              "0                      1.0            0.0                        0.0   \n",
              "1                      3.0            2.0                        0.0   \n",
              "2                      1.0            1.0                        0.0   \n",
              "3                      1.0            1.0                        0.0   \n",
              "4                      2.0            1.0                        0.0   \n",
              "\n",
              "               behavioral_face_mask  behavioral_wash_hands  doctor_recc_xyz  \\\n",
              "respondent_id                                                                 \n",
              "0                               0.0                    0.0              0.0   \n",
              "1                               0.0                    1.0              0.0   \n",
              "2                               0.0                    0.0              0.0   \n",
              "3                               0.0                    1.0              0.0   \n",
              "4                               0.0                    1.0              0.0   \n",
              "\n",
              "               doctor_recc_seasonal  chronic_med_condition  \\\n",
              "respondent_id                                                \n",
              "0                               0.0                    0.0   \n",
              "1                               0.0                    0.0   \n",
              "2                               0.0                    1.0   \n",
              "3                               1.0                    1.0   \n",
              "4                               0.0                    0.0   \n",
              "\n",
              "               child_under_6_months  health_worker  ...  opinion_seas_risk  \\\n",
              "respondent_id                                       ...                      \n",
              "0                               0.0            0.0  ...                1.0   \n",
              "1                               0.0            0.0  ...                2.0   \n",
              "2                               0.0            0.0  ...                1.0   \n",
              "3                               0.0            0.0  ...                4.0   \n",
              "4                               0.0            0.0  ...                1.0   \n",
              "\n",
              "               opinion_seas_sick_from_vacc  age_group  race  sex  \\\n",
              "respondent_id                                                      \n",
              "0                                      2.0        3.0   3.0  0.0   \n",
              "1                                      4.0        1.0   3.0  1.0   \n",
              "2                                      2.0        0.0   3.0  1.0   \n",
              "3                                      1.0        4.0   3.0  0.0   \n",
              "4                                      4.0        2.0   3.0  0.0   \n",
              "\n",
              "               income_poverty  employment_status  census_msa  \\\n",
              "respondent_id                                                  \n",
              "0                         0.0                1.0         0.0   \n",
              "1                         0.0                2.0         1.0   \n",
              "2                         1.0                2.0         1.0   \n",
              "3                         0.0                1.0         2.0   \n",
              "4                         1.0                2.0         1.0   \n",
              "\n",
              "               household_adults  household_children  \n",
              "respondent_id                                        \n",
              "0                           0.0                 0.0  \n",
              "1                           0.0                 0.0  \n",
              "2                           2.0                 0.0  \n",
              "3                           0.0                 0.0  \n",
              "4                           1.0                 0.0  \n",
              "\n",
              "[5 rows x 25 columns]"
            ],
            "text/html": [
              "\n",
              "  <div id=\"df-fe4bb387-819c-4a43-afa9-22844858b0a0\" class=\"colab-df-container\">\n",
              "    <div>\n",
              "<style scoped>\n",
              "    .dataframe tbody tr th:only-of-type {\n",
              "        vertical-align: middle;\n",
              "    }\n",
              "\n",
              "    .dataframe tbody tr th {\n",
              "        vertical-align: top;\n",
              "    }\n",
              "\n",
              "    .dataframe thead th {\n",
              "        text-align: right;\n",
              "    }\n",
              "</style>\n",
              "<table border=\"1\" class=\"dataframe\">\n",
              "  <thead>\n",
              "    <tr style=\"text-align: right;\">\n",
              "      <th></th>\n",
              "      <th>xyz_concern</th>\n",
              "      <th>xyz_knowledge</th>\n",
              "      <th>behavioral_antiviral_meds</th>\n",
              "      <th>behavioral_face_mask</th>\n",
              "      <th>behavioral_wash_hands</th>\n",
              "      <th>doctor_recc_xyz</th>\n",
              "      <th>doctor_recc_seasonal</th>\n",
              "      <th>chronic_med_condition</th>\n",
              "      <th>child_under_6_months</th>\n",
              "      <th>health_worker</th>\n",
              "      <th>...</th>\n",
              "      <th>opinion_seas_risk</th>\n",
              "      <th>opinion_seas_sick_from_vacc</th>\n",
              "      <th>age_group</th>\n",
              "      <th>race</th>\n",
              "      <th>sex</th>\n",
              "      <th>income_poverty</th>\n",
              "      <th>employment_status</th>\n",
              "      <th>census_msa</th>\n",
              "      <th>household_adults</th>\n",
              "      <th>household_children</th>\n",
              "    </tr>\n",
              "    <tr>\n",
              "      <th>respondent_id</th>\n",
              "      <th></th>\n",
              "      <th></th>\n",
              "      <th></th>\n",
              "      <th></th>\n",
              "      <th></th>\n",
              "      <th></th>\n",
              "      <th></th>\n",
              "      <th></th>\n",
              "      <th></th>\n",
              "      <th></th>\n",
              "      <th></th>\n",
              "      <th></th>\n",
              "      <th></th>\n",
              "      <th></th>\n",
              "      <th></th>\n",
              "      <th></th>\n",
              "      <th></th>\n",
              "      <th></th>\n",
              "      <th></th>\n",
              "      <th></th>\n",
              "      <th></th>\n",
              "    </tr>\n",
              "  </thead>\n",
              "  <tbody>\n",
              "    <tr>\n",
              "      <th>0</th>\n",
              "      <td>1.0</td>\n",
              "      <td>0.0</td>\n",
              "      <td>0.0</td>\n",
              "      <td>0.0</td>\n",
              "      <td>0.0</td>\n",
              "      <td>0.0</td>\n",
              "      <td>0.0</td>\n",
              "      <td>0.0</td>\n",
              "      <td>0.0</td>\n",
              "      <td>0.0</td>\n",
              "      <td>...</td>\n",
              "      <td>1.0</td>\n",
              "      <td>2.0</td>\n",
              "      <td>3.0</td>\n",
              "      <td>3.0</td>\n",
              "      <td>0.0</td>\n",
              "      <td>0.0</td>\n",
              "      <td>1.0</td>\n",
              "      <td>0.0</td>\n",
              "      <td>0.0</td>\n",
              "      <td>0.0</td>\n",
              "    </tr>\n",
              "    <tr>\n",
              "      <th>1</th>\n",
              "      <td>3.0</td>\n",
              "      <td>2.0</td>\n",
              "      <td>0.0</td>\n",
              "      <td>0.0</td>\n",
              "      <td>1.0</td>\n",
              "      <td>0.0</td>\n",
              "      <td>0.0</td>\n",
              "      <td>0.0</td>\n",
              "      <td>0.0</td>\n",
              "      <td>0.0</td>\n",
              "      <td>...</td>\n",
              "      <td>2.0</td>\n",
              "      <td>4.0</td>\n",
              "      <td>1.0</td>\n",
              "      <td>3.0</td>\n",
              "      <td>1.0</td>\n",
              "      <td>0.0</td>\n",
              "      <td>2.0</td>\n",
              "      <td>1.0</td>\n",
              "      <td>0.0</td>\n",
              "      <td>0.0</td>\n",
              "    </tr>\n",
              "    <tr>\n",
              "      <th>2</th>\n",
              "      <td>1.0</td>\n",
              "      <td>1.0</td>\n",
              "      <td>0.0</td>\n",
              "      <td>0.0</td>\n",
              "      <td>0.0</td>\n",
              "      <td>0.0</td>\n",
              "      <td>0.0</td>\n",
              "      <td>1.0</td>\n",
              "      <td>0.0</td>\n",
              "      <td>0.0</td>\n",
              "      <td>...</td>\n",
              "      <td>1.0</td>\n",
              "      <td>2.0</td>\n",
              "      <td>0.0</td>\n",
              "      <td>3.0</td>\n",
              "      <td>1.0</td>\n",
              "      <td>1.0</td>\n",
              "      <td>2.0</td>\n",
              "      <td>1.0</td>\n",
              "      <td>2.0</td>\n",
              "      <td>0.0</td>\n",
              "    </tr>\n",
              "    <tr>\n",
              "      <th>3</th>\n",
              "      <td>1.0</td>\n",
              "      <td>1.0</td>\n",
              "      <td>0.0</td>\n",
              "      <td>0.0</td>\n",
              "      <td>1.0</td>\n",
              "      <td>0.0</td>\n",
              "      <td>1.0</td>\n",
              "      <td>1.0</td>\n",
              "      <td>0.0</td>\n",
              "      <td>0.0</td>\n",
              "      <td>...</td>\n",
              "      <td>4.0</td>\n",
              "      <td>1.0</td>\n",
              "      <td>4.0</td>\n",
              "      <td>3.0</td>\n",
              "      <td>0.0</td>\n",
              "      <td>0.0</td>\n",
              "      <td>1.0</td>\n",
              "      <td>2.0</td>\n",
              "      <td>0.0</td>\n",
              "      <td>0.0</td>\n",
              "    </tr>\n",
              "    <tr>\n",
              "      <th>4</th>\n",
              "      <td>2.0</td>\n",
              "      <td>1.0</td>\n",
              "      <td>0.0</td>\n",
              "      <td>0.0</td>\n",
              "      <td>1.0</td>\n",
              "      <td>0.0</td>\n",
              "      <td>0.0</td>\n",
              "      <td>0.0</td>\n",
              "      <td>0.0</td>\n",
              "      <td>0.0</td>\n",
              "      <td>...</td>\n",
              "      <td>1.0</td>\n",
              "      <td>4.0</td>\n",
              "      <td>2.0</td>\n",
              "      <td>3.0</td>\n",
              "      <td>0.0</td>\n",
              "      <td>1.0</td>\n",
              "      <td>2.0</td>\n",
              "      <td>1.0</td>\n",
              "      <td>1.0</td>\n",
              "      <td>0.0</td>\n",
              "    </tr>\n",
              "  </tbody>\n",
              "</table>\n",
              "<p>5 rows × 25 columns</p>\n",
              "</div>\n",
              "    <div class=\"colab-df-buttons\">\n",
              "\n",
              "  <div class=\"colab-df-container\">\n",
              "    <button class=\"colab-df-convert\" onclick=\"convertToInteractive('df-fe4bb387-819c-4a43-afa9-22844858b0a0')\"\n",
              "            title=\"Convert this dataframe to an interactive table.\"\n",
              "            style=\"display:none;\">\n",
              "\n",
              "  <svg xmlns=\"http://www.w3.org/2000/svg\" height=\"24px\" viewBox=\"0 -960 960 960\">\n",
              "    <path d=\"M120-120v-720h720v720H120Zm60-500h600v-160H180v160Zm220 220h160v-160H400v160Zm0 220h160v-160H400v160ZM180-400h160v-160H180v160Zm440 0h160v-160H620v160ZM180-180h160v-160H180v160Zm440 0h160v-160H620v160Z\"/>\n",
              "  </svg>\n",
              "    </button>\n",
              "\n",
              "  <style>\n",
              "    .colab-df-container {\n",
              "      display:flex;\n",
              "      gap: 12px;\n",
              "    }\n",
              "\n",
              "    .colab-df-convert {\n",
              "      background-color: #E8F0FE;\n",
              "      border: none;\n",
              "      border-radius: 50%;\n",
              "      cursor: pointer;\n",
              "      display: none;\n",
              "      fill: #1967D2;\n",
              "      height: 32px;\n",
              "      padding: 0 0 0 0;\n",
              "      width: 32px;\n",
              "    }\n",
              "\n",
              "    .colab-df-convert:hover {\n",
              "      background-color: #E2EBFA;\n",
              "      box-shadow: 0px 1px 2px rgba(60, 64, 67, 0.3), 0px 1px 3px 1px rgba(60, 64, 67, 0.15);\n",
              "      fill: #174EA6;\n",
              "    }\n",
              "\n",
              "    .colab-df-buttons div {\n",
              "      margin-bottom: 4px;\n",
              "    }\n",
              "\n",
              "    [theme=dark] .colab-df-convert {\n",
              "      background-color: #3B4455;\n",
              "      fill: #D2E3FC;\n",
              "    }\n",
              "\n",
              "    [theme=dark] .colab-df-convert:hover {\n",
              "      background-color: #434B5C;\n",
              "      box-shadow: 0px 1px 3px 1px rgba(0, 0, 0, 0.15);\n",
              "      filter: drop-shadow(0px 1px 2px rgba(0, 0, 0, 0.3));\n",
              "      fill: #FFFFFF;\n",
              "    }\n",
              "  </style>\n",
              "\n",
              "    <script>\n",
              "      const buttonEl =\n",
              "        document.querySelector('#df-fe4bb387-819c-4a43-afa9-22844858b0a0 button.colab-df-convert');\n",
              "      buttonEl.style.display =\n",
              "        google.colab.kernel.accessAllowed ? 'block' : 'none';\n",
              "\n",
              "      async function convertToInteractive(key) {\n",
              "        const element = document.querySelector('#df-fe4bb387-819c-4a43-afa9-22844858b0a0');\n",
              "        const dataTable =\n",
              "          await google.colab.kernel.invokeFunction('convertToInteractive',\n",
              "                                                    [key], {});\n",
              "        if (!dataTable) return;\n",
              "\n",
              "        const docLinkHtml = 'Like what you see? Visit the ' +\n",
              "          '<a target=\"_blank\" href=https://colab.research.google.com/notebooks/data_table.ipynb>data table notebook</a>'\n",
              "          + ' to learn more about interactive tables.';\n",
              "        element.innerHTML = '';\n",
              "        dataTable['output_type'] = 'display_data';\n",
              "        await google.colab.output.renderOutput(dataTable, element);\n",
              "        const docLink = document.createElement('div');\n",
              "        docLink.innerHTML = docLinkHtml;\n",
              "        element.appendChild(docLink);\n",
              "      }\n",
              "    </script>\n",
              "  </div>\n",
              "\n",
              "\n",
              "<div id=\"df-6b522a98-8649-4325-82e0-f991927ec1cd\">\n",
              "  <button class=\"colab-df-quickchart\" onclick=\"quickchart('df-6b522a98-8649-4325-82e0-f991927ec1cd')\"\n",
              "            title=\"Suggest charts\"\n",
              "            style=\"display:none;\">\n",
              "\n",
              "<svg xmlns=\"http://www.w3.org/2000/svg\" height=\"24px\"viewBox=\"0 0 24 24\"\n",
              "     width=\"24px\">\n",
              "    <g>\n",
              "        <path d=\"M19 3H5c-1.1 0-2 .9-2 2v14c0 1.1.9 2 2 2h14c1.1 0 2-.9 2-2V5c0-1.1-.9-2-2-2zM9 17H7v-7h2v7zm4 0h-2V7h2v10zm4 0h-2v-4h2v4z\"/>\n",
              "    </g>\n",
              "</svg>\n",
              "  </button>\n",
              "\n",
              "<style>\n",
              "  .colab-df-quickchart {\n",
              "      --bg-color: #E8F0FE;\n",
              "      --fill-color: #1967D2;\n",
              "      --hover-bg-color: #E2EBFA;\n",
              "      --hover-fill-color: #174EA6;\n",
              "      --disabled-fill-color: #AAA;\n",
              "      --disabled-bg-color: #DDD;\n",
              "  }\n",
              "\n",
              "  [theme=dark] .colab-df-quickchart {\n",
              "      --bg-color: #3B4455;\n",
              "      --fill-color: #D2E3FC;\n",
              "      --hover-bg-color: #434B5C;\n",
              "      --hover-fill-color: #FFFFFF;\n",
              "      --disabled-bg-color: #3B4455;\n",
              "      --disabled-fill-color: #666;\n",
              "  }\n",
              "\n",
              "  .colab-df-quickchart {\n",
              "    background-color: var(--bg-color);\n",
              "    border: none;\n",
              "    border-radius: 50%;\n",
              "    cursor: pointer;\n",
              "    display: none;\n",
              "    fill: var(--fill-color);\n",
              "    height: 32px;\n",
              "    padding: 0;\n",
              "    width: 32px;\n",
              "  }\n",
              "\n",
              "  .colab-df-quickchart:hover {\n",
              "    background-color: var(--hover-bg-color);\n",
              "    box-shadow: 0 1px 2px rgba(60, 64, 67, 0.3), 0 1px 3px 1px rgba(60, 64, 67, 0.15);\n",
              "    fill: var(--button-hover-fill-color);\n",
              "  }\n",
              "\n",
              "  .colab-df-quickchart-complete:disabled,\n",
              "  .colab-df-quickchart-complete:disabled:hover {\n",
              "    background-color: var(--disabled-bg-color);\n",
              "    fill: var(--disabled-fill-color);\n",
              "    box-shadow: none;\n",
              "  }\n",
              "\n",
              "  .colab-df-spinner {\n",
              "    border: 2px solid var(--fill-color);\n",
              "    border-color: transparent;\n",
              "    border-bottom-color: var(--fill-color);\n",
              "    animation:\n",
              "      spin 1s steps(1) infinite;\n",
              "  }\n",
              "\n",
              "  @keyframes spin {\n",
              "    0% {\n",
              "      border-color: transparent;\n",
              "      border-bottom-color: var(--fill-color);\n",
              "      border-left-color: var(--fill-color);\n",
              "    }\n",
              "    20% {\n",
              "      border-color: transparent;\n",
              "      border-left-color: var(--fill-color);\n",
              "      border-top-color: var(--fill-color);\n",
              "    }\n",
              "    30% {\n",
              "      border-color: transparent;\n",
              "      border-left-color: var(--fill-color);\n",
              "      border-top-color: var(--fill-color);\n",
              "      border-right-color: var(--fill-color);\n",
              "    }\n",
              "    40% {\n",
              "      border-color: transparent;\n",
              "      border-right-color: var(--fill-color);\n",
              "      border-top-color: var(--fill-color);\n",
              "    }\n",
              "    60% {\n",
              "      border-color: transparent;\n",
              "      border-right-color: var(--fill-color);\n",
              "    }\n",
              "    80% {\n",
              "      border-color: transparent;\n",
              "      border-right-color: var(--fill-color);\n",
              "      border-bottom-color: var(--fill-color);\n",
              "    }\n",
              "    90% {\n",
              "      border-color: transparent;\n",
              "      border-bottom-color: var(--fill-color);\n",
              "    }\n",
              "  }\n",
              "</style>\n",
              "\n",
              "  <script>\n",
              "    async function quickchart(key) {\n",
              "      const quickchartButtonEl =\n",
              "        document.querySelector('#' + key + ' button');\n",
              "      quickchartButtonEl.disabled = true;  // To prevent multiple clicks.\n",
              "      quickchartButtonEl.classList.add('colab-df-spinner');\n",
              "      try {\n",
              "        const charts = await google.colab.kernel.invokeFunction(\n",
              "            'suggestCharts', [key], {});\n",
              "      } catch (error) {\n",
              "        console.error('Error during call to suggestCharts:', error);\n",
              "      }\n",
              "      quickchartButtonEl.classList.remove('colab-df-spinner');\n",
              "      quickchartButtonEl.classList.add('colab-df-quickchart-complete');\n",
              "    }\n",
              "    (() => {\n",
              "      let quickchartButtonEl =\n",
              "        document.querySelector('#df-6b522a98-8649-4325-82e0-f991927ec1cd button');\n",
              "      quickchartButtonEl.style.display =\n",
              "        google.colab.kernel.accessAllowed ? 'block' : 'none';\n",
              "    })();\n",
              "  </script>\n",
              "</div>\n",
              "\n",
              "    </div>\n",
              "  </div>\n"
            ],
            "application/vnd.google.colaboratory.intrinsic+json": {
              "type": "dataframe",
              "variable_name": "X"
            }
          },
          "metadata": {},
          "execution_count": 9
        }
      ]
    },
    {
      "cell_type": "markdown",
      "source": [],
      "metadata": {
        "id": "2rJrJSsOduPc"
      }
    },
    {
      "cell_type": "code",
      "source": [
        "# Splitting the Output into xyz and seas\n",
        "\n",
        "Y_xyz = Y.loc[:,'xyz_vaccine']\n",
        "Y_seas = Y.loc[:,'seasonal_vaccine']\n",
        "Y_xyz = Y_xyz.to_numpy()\n",
        "Y_seas = Y_seas.to_numpy()\n",
        "\n",
        "# Splitting the dataset\n",
        "X_train, X_test, Y_train_xyz, Y_test_xyz, Y_train_seas, Y_test_seas = train_test_split(X, Y_xyz, Y_seas, test_size = 0.25, random_state = 42)"
      ],
      "metadata": {
        "id": "_8mrkUCJrney"
      },
      "execution_count": 10,
      "outputs": []
    },
    {
      "cell_type": "code",
      "source": [
        "# Applying Logistic Regression\n",
        "\n",
        "model = LogisticRegression(max_iter = 2500)\n",
        "\n",
        "# Applying model on xyz\n",
        "model.fit(X_train, Y_train_xyz)\n",
        "Y_pred_xyz = model.predict(X_test)\n",
        "print(accuracy_score(Y_test_xyz, Y_pred_xyz))\n",
        "\n",
        "# Applying model on seas\n",
        "model.fit(X_train, Y_train_seas)\n",
        "Y_pred_seas = model.predict(X_test)\n",
        "print(accuracy_score(Y_test_seas, Y_pred_seas))"
      ],
      "metadata": {
        "colab": {
          "base_uri": "https://localhost:8080/"
        },
        "id": "stz7OL74sVib",
        "outputId": "219e37bd-e50a-4111-d268-298d9bd747f6"
      },
      "execution_count": 11,
      "outputs": [
        {
          "output_type": "stream",
          "name": "stdout",
          "text": [
            "0.8403474614347761\n",
            "0.7829863711247567\n"
          ]
        }
      ]
    },
    {
      "cell_type": "code",
      "source": [
        "# Applying Gradient Booster\n",
        "\n",
        "model2 = GradientBoostingClassifier()\n",
        "model2.fit(X_train,Y_train_xyz)\n",
        "y_pred1 = model2.predict(X_test)\n",
        "print(accuracy_score(Y_test_xyz, y_pred1))\n",
        "model2.fit(X_train,Y_train_seas)\n",
        "y_pred2 = model2.predict(X_test)\n",
        "print(accuracy_score(Y_test_seas, y_pred2))"
      ],
      "metadata": {
        "colab": {
          "base_uri": "https://localhost:8080/"
        },
        "id": "akzd3T2yEwOF",
        "outputId": "fd9dd166-9105-436b-aafe-f1bbeee2fb3f"
      },
      "execution_count": 12,
      "outputs": [
        {
          "output_type": "stream",
          "name": "stdout",
          "text": [
            "0.8427437471918526\n",
            "0.7891268533772653\n"
          ]
        }
      ]
    },
    {
      "cell_type": "code",
      "source": [
        "# Applying SVC\n",
        "\n",
        "model1 = SVC()\n",
        "model1.fit(X_train,Y_train_xyz)\n",
        "Y_pred_xyz1 = model1.predict(X_test)\n",
        "print(accuracy_score(Y_test_xyz, Y_pred_xyz1))\n",
        "model1.fit(X_train, Y_train_seas)\n",
        "Y_pred_seas1 = model1.predict(X_test)\n",
        "print(accuracy_score(Y_test_seas, Y_pred_seas1))"
      ],
      "metadata": {
        "colab": {
          "base_uri": "https://localhost:8080/"
        },
        "id": "qZb4EjElB0zW",
        "outputId": "e226250f-b531-4a8a-aa39-ad678d2eae24"
      },
      "execution_count": 13,
      "outputs": [
        {
          "output_type": "stream",
          "name": "stdout",
          "text": [
            "0.8395986221356897\n",
            "0.7871798711996405\n"
          ]
        }
      ]
    },
    {
      "cell_type": "code",
      "source": [
        "# Checking the ROC and AOC for Gradient Booster\n",
        "\n",
        "# For xyz vaccine\n",
        "fpr, tpr, thresholds = roc_curve(Y_test_xyz, y_pred1)\n",
        "roc_auc = auc(fpr, tpr)\n",
        "plt.figure()\n",
        "plt.plot(fpr, tpr, color='navy', lw=3, label=f'Gradient Booster (area = {roc_auc:.2f})')\n",
        "plt.plot([0, 1], [0, 1], color='black', lw=2, linestyle='--')\n",
        "plt.xlim([0.0, 1.0])\n",
        "plt.ylim([0.0, 1.05])\n",
        "plt.xlabel('False Positive Rate')\n",
        "plt.ylabel('True Positive Rate')\n",
        "plt.title('ROC')\n",
        "plt.legend(loc='lower right')\n",
        "plt.show()\n",
        "print(f'AUC = {roc_auc:.2f}')\n",
        "\n",
        "# For seasonal vaccine\n",
        "fpr, tpr, thresholds = roc_curve(Y_test_seas, y_pred2)\n",
        "roc_auc = auc(fpr, tpr)\n",
        "plt.figure()\n",
        "plt.plot(fpr, tpr, color='navy', lw=3, label=f'Gradient Booster (area = {roc_auc:.2f})')\n",
        "plt.plot([0, 1], [0, 1], color='black', lw=2, linestyle='--')\n",
        "plt.xlim([0.0, 1.0])\n",
        "plt.ylim([0.0, 1.05])\n",
        "plt.xlabel('False Positive Rate')\n",
        "plt.ylabel('True Positive Rate')\n",
        "plt.title('ROC')\n",
        "plt.legend(loc='lower right')\n",
        "plt.show()\n",
        "print(f'AUC: {roc_auc:.2f}')"
      ],
      "metadata": {
        "id": "ga2LJmDNtc7E",
        "colab": {
          "base_uri": "https://localhost:8080/",
          "height": 962
        },
        "outputId": "98a84bb7-4aea-4b7e-b13f-babda0c20fce"
      },
      "execution_count": 14,
      "outputs": [
        {
          "output_type": "display_data",
          "data": {
            "text/plain": [
              "<Figure size 640x480 with 1 Axes>"
            ],
            "image/png": "[encoded data removed]"
          },
          "metadata": {}
        },
        {
          "output_type": "stream",
          "name": "stdout",
          "text": [
            "AUC = 0.70\n"
          ]
        },
        {
          "output_type": "display_data",
          "data": {
            "text/plain": [
              "<Figure size 640x480 with 1 Axes>"
            ],
            "image/png": "[encoded data removed]"
          },
          "metadata": {}
        },
        {
          "output_type": "stream",
          "name": "stdout",
          "text": [
            "AUC: 0.79\n"
          ]
        }
      ]
    },
    {
      "cell_type": "code",
      "source": [
        "# Loading the Test Set\n",
        "\n",
        "x_test = pd.read_csv('/content/test_set_features.csv')\n",
        "id = x_test['respondent_id']\n",
        "x_test.set_index('respondent_id', inplace = True)"
      ],
      "metadata": {
        "id": "qdyMgWGAJMUm"
      },
      "execution_count": 15,
      "outputs": []
    },
    {
      "cell_type": "code",
      "source": [
        "# Getting rid of unnecessary data\n",
        "\n",
        "x_test.drop(columns = [\"employment_industry\", \"employment_occupation\", \"marital_status\",\t'behavioral_outside_home', \"education\",\t'behavioral_avoidance', 'behavioral_large_gatherings',\t'behavioral_touch_face', \"rent_or_own\", \"hhs_geo_region\"], inplace = True)"
      ],
      "metadata": {
        "id": "x9fAxFMOm43z"
      },
      "execution_count": 16,
      "outputs": []
    },
    {
      "cell_type": "code",
      "source": [
        "# Labelling certain columns\n",
        "\n",
        "x_test = x_test.replace(labels)"
      ],
      "metadata": {
        "id": "LoNktFXjnK-h"
      },
      "execution_count": 17,
      "outputs": []
    },
    {
      "cell_type": "code",
      "source": [
        "# Filling the NaN values\n",
        "\n",
        "imputer = SimpleImputer(strategy='most_frequent')\n",
        "\n",
        "x_test[Categorical] = imputer.fit_transform(x_test[Categorical])\n",
        "x_test[Binary] = imputer.fit_transform(x_test[Binary])\n",
        "x_test[Ordinal] = imputer.fit_transform(x_test[Ordinal])"
      ],
      "metadata": {
        "id": "NeDN3IgZnVoB"
      },
      "execution_count": 18,
      "outputs": []
    },
    {
      "cell_type": "code",
      "source": [
        "# Splitting the Output into xyz and seas\n",
        "\n",
        "Y_xyz = Y.loc[:,'xyz_vaccine']\n",
        "Y_seas = Y.loc[:,'seasonal_vaccine']\n",
        "Y_xyz = Y_xyz.to_numpy()\n",
        "Y_seas = Y_seas.to_numpy()"
      ],
      "metadata": {
        "id": "Ok-E1Wwvnor2"
      },
      "execution_count": 19,
      "outputs": []
    },
    {
      "cell_type": "code",
      "source": [
        "# Making the predictions\n",
        "\n",
        "model2 = GradientBoostingClassifier()\n",
        "model2.fit(X,Y_xyz)\n",
        "y_pred_xyz = model2.predict_proba(x_test)\n",
        "model2.fit(X,Y_seas)\n",
        "y_pred_seas = model2.predict_proba(x_test)\n",
        "\n",
        "y_pred_xyz = y_pred_xyz[:,1]\n",
        "y_pred_seas = y_pred_seas[:,1]\n",
        "print(y_pred_xyz)\n",
        "print(y_pred_seas)"
      ],
      "metadata": {
        "colab": {
          "base_uri": "https://localhost:8080/"
        },
        "id": "UG1Ra9SxperA",
        "outputId": "a959586d-37bb-4c3d-ee96-de9ca129013f"
      },
      "execution_count": 20,
      "outputs": [
        {
          "output_type": "stream",
          "name": "stdout",
          "text": [
            "[0.10275313 0.04255963 0.45649165 ... 0.1138515  0.05009526 0.48251156]\n",
            "[0.19985392 0.04952786 0.79921969 ... 0.20598212 0.38051249 0.60396492]\n"
          ]
        }
      ]
    },
    {
      "cell_type": "code",
      "source": [
        "# Preparing the final Dataframe\n",
        "\n",
        "Series = {'respondent_id': id, 'xyz_vaccine': y_pred_xyz, 'seasonal_vaccine': y_pred_seas}\n",
        "Vaccine = pd.DataFrame(Series)\n",
        "Vaccine\n",
        "Vaccine.to_csv('Predictions_Hackathon.csv', index = False)"
      ],
      "metadata": {
        "id": "IYJigVXYtNmL"
      },
      "execution_count": 21,
      "outputs": []
    }
  ]
}